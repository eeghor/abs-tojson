{
 "cells": [
  {
   "cell_type": "code",
   "execution_count": 100,
   "metadata": {},
   "outputs": [],
   "source": [
    "import pandas as pd\n",
    "import json\n",
    "import re\n",
    "from collections import defaultdict"
   ]
  },
  {
   "cell_type": "code",
   "execution_count": 101,
   "metadata": {},
   "outputs": [],
   "source": [
    "d = defaultdict(lambda: defaultdict())"
   ]
  },
  {
   "cell_type": "code",
   "execution_count": 102,
   "metadata": {},
   "outputs": [],
   "source": [
    "for state in ['WA','NSW','VIC','TAS','NT','ACT','SA', 'QLD']:\n",
    "\n",
    "    ta = pd.read_csv(f'/Users/ik/Data/2016_GCP_POA_for_{state}_short-header/2016 Census GCP Postal Areas for {state}/2016Census_G04A_{state}_POA.csv')\n",
    "    tb = pd.read_csv(f'/Users/ik/Data/2016_GCP_POA_for_{state}_short-header/2016 Census GCP Postal Areas for {state}/2016Census_G04B_{state}_POA.csv')\n",
    "\n",
    "    t = ta.join(tb.set_index('POA_CODE_2016'), on='POA_CODE_2016', how='inner')\n",
    "\n",
    "    for gender in 'M F'.split():\n",
    "    \n",
    "        males = t.loc[:, ['POA_CODE_2016'] + [_ for _ in t.columns \n",
    "                                              if (gender in _) and (_.count('_') > 3)][3:]]\n",
    "        males['85+'] = males.iloc[:,-4:].sum(axis=1)\n",
    "        males = males.drop(males.columns[-4:-1], axis=1)\n",
    "    \n",
    "        males = males.rename(lambda x: '_'.join([v for v in x.split('_') if v.isdigit()]) \n",
    "                         if ('+' not in x) and ('2016' not in x) \n",
    "                             else x, axis='columns').rename(columns={'POA_CODE_2016': 'postcode'})\n",
    "    \n",
    "        males['postcode'] = males['postcode'].apply(lambda x: ''.join([v for v in x if v.isdigit()]))\n",
    "    \n",
    "        males.head()\n",
    "    \n",
    "        d[gender.lower()].update(males.set_index('postcode').to_dict(orient='index'))"
   ]
  },
  {
   "cell_type": "code",
   "execution_count": 103,
   "metadata": {},
   "outputs": [],
   "source": [
    "json.dump(d, open('abs_population_by_postcode.json','w'))"
   ]
  },
  {
   "cell_type": "code",
   "execution_count": null,
   "metadata": {},
   "outputs": [],
   "source": []
  }
 ],
 "metadata": {
  "kernelspec": {
   "display_name": "Python 3",
   "language": "python",
   "name": "python3"
  },
  "language_info": {
   "codemirror_mode": {
    "name": "ipython",
    "version": 3
   },
   "file_extension": ".py",
   "mimetype": "text/x-python",
   "name": "python",
   "nbconvert_exporter": "python",
   "pygments_lexer": "ipython3",
   "version": "3.6.5"
  }
 },
 "nbformat": 4,
 "nbformat_minor": 2
}
