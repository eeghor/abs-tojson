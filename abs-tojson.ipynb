{
 "cells": [
  {
   "cell_type": "code",
   "execution_count": 64,
   "metadata": {},
   "outputs": [],
   "source": [
    "import pandas as pd\n",
    "import json\n",
    "import re"
   ]
  },
  {
   "cell_type": "code",
   "execution_count": 13,
   "metadata": {},
   "outputs": [],
   "source": [
    "table_names = pd.read_excel('/Users/ik/Downloads/2016_GCP_POA_for_NSW_short-header/Metadata/Metadata_2016_GCP_DataPack.xlsx', \n",
    "                     skiprows=9, sheet_name=0)"
   ]
  },
  {
   "cell_type": "code",
   "execution_count": 58,
   "metadata": {},
   "outputs": [],
   "source": [
    "what_tables = list(table_names[table_names['Table name'].apply(lambda x: 'Total Personal Income' in x)]['Table number'])"
   ]
  },
  {
   "cell_type": "code",
   "execution_count": 16,
   "metadata": {},
   "outputs": [],
   "source": [
    "cell_descr = pd.read_excel('/Users/ik/Downloads/2016_GCP_POA_for_NSW_short-header/Metadata/Metadata_2016_GCP_DataPack.xlsx', \n",
    "                     skiprows=10, sheet_name=1)"
   ]
  },
  {
   "cell_type": "code",
   "execution_count": 60,
   "metadata": {},
   "outputs": [],
   "source": [
    "dsc = cell_descr[cell_descr['Profile table'].apply(lambda x: sum([table_name in x for table_name in what_tables]) > 0 )]"
   ]
  },
  {
   "cell_type": "code",
   "execution_count": 62,
   "metadata": {},
   "outputs": [],
   "source": [
    "fls_cont_ = list(dsc['DataPack file'].unique())"
   ]
  },
  {
   "cell_type": "code",
   "execution_count": 164,
   "metadata": {},
   "outputs": [],
   "source": [
    "age_groups = []\n",
    "\n",
    "for lab in list(dsc['Short']):\n",
    "    _ = re.search(r'_\\d{2}_',lab)\n",
    "    if _:\n",
    "        age_groups.append(_.group(0)[:-1])\n",
    "        \n",
    "age_groups = sorted(list(set(age_groups)))"
   ]
  },
  {
   "cell_type": "code",
   "execution_count": 165,
   "metadata": {},
   "outputs": [
    {
     "data": {
      "text/plain": [
       "['_15', '_20', '_25', '_35', '_45', '_55', '_65', '_75', '_85']"
      ]
     },
     "execution_count": 165,
     "metadata": {},
     "output_type": "execute_result"
    }
   ],
   "source": [
    "age_groups"
   ]
  },
  {
   "cell_type": "code",
   "execution_count": 166,
   "metadata": {},
   "outputs": [],
   "source": [
    "tbl = pd.concat([pd.read_csv(f'/Users/ik/Downloads/2016_GCP_POA_for_NSW_short-header/2016 Census GCP Postal Areas for NSW/2016Census_{t}_NSW_POA.csv').set_index('POA_CODE_2016') for t in fls_cont_], axis=1)"
   ]
  },
  {
   "cell_type": "code",
   "execution_count": 167,
   "metadata": {},
   "outputs": [],
   "source": [
    "_ = tbl[tbl.index == 'POA2000']"
   ]
  },
  {
   "cell_type": "code",
   "execution_count": 168,
   "metadata": {},
   "outputs": [],
   "source": [
    "ppl15 = tbl[[c for c in _.columns if ('_85' in c) and ('M' in c)]]"
   ]
  },
  {
   "cell_type": "code",
   "execution_count": 169,
   "metadata": {},
   "outputs": [
    {
     "data": {
      "text/html": [
       "<div>\n",
       "<style scoped>\n",
       "    .dataframe tbody tr th:only-of-type {\n",
       "        vertical-align: middle;\n",
       "    }\n",
       "\n",
       "    .dataframe tbody tr th {\n",
       "        vertical-align: top;\n",
       "    }\n",
       "\n",
       "    .dataframe thead th {\n",
       "        text-align: right;\n",
       "    }\n",
       "</style>\n",
       "<table border=\"1\" class=\"dataframe\">\n",
       "  <thead>\n",
       "    <tr style=\"text-align: right;\">\n",
       "      <th></th>\n",
       "      <th>M_Negtve_Nil_incme_85_yrs_ovr</th>\n",
       "      <th>M_1_149_85ov</th>\n",
       "      <th>M_150_299_85ov</th>\n",
       "      <th>M_300_399_85ov</th>\n",
       "      <th>M_400_499_85ov</th>\n",
       "      <th>M_500_649_85ov</th>\n",
       "      <th>M_650_799_85ov</th>\n",
       "      <th>M_800_999_85ov</th>\n",
       "      <th>M_1000_1249_85ov</th>\n",
       "      <th>M_1250_1499_85ov</th>\n",
       "      <th>M_1500_1749_85ov</th>\n",
       "      <th>M_1750_1999_85ov</th>\n",
       "      <th>M_2000_2999_85ov</th>\n",
       "      <th>M_3000_more_85ov</th>\n",
       "      <th>M_PI_NS_ns_85_yrs_ovr</th>\n",
       "      <th>M_Tot_85ov</th>\n",
       "    </tr>\n",
       "    <tr>\n",
       "      <th>POA_CODE_2016</th>\n",
       "      <th></th>\n",
       "      <th></th>\n",
       "      <th></th>\n",
       "      <th></th>\n",
       "      <th></th>\n",
       "      <th></th>\n",
       "      <th></th>\n",
       "      <th></th>\n",
       "      <th></th>\n",
       "      <th></th>\n",
       "      <th></th>\n",
       "      <th></th>\n",
       "      <th></th>\n",
       "      <th></th>\n",
       "      <th></th>\n",
       "      <th></th>\n",
       "    </tr>\n",
       "  </thead>\n",
       "  <tbody>\n",
       "    <tr>\n",
       "      <th>POA2000</th>\n",
       "      <td>5</td>\n",
       "      <td>3</td>\n",
       "      <td>5</td>\n",
       "      <td>8</td>\n",
       "      <td>0</td>\n",
       "      <td>3</td>\n",
       "      <td>5</td>\n",
       "      <td>0</td>\n",
       "      <td>7</td>\n",
       "      <td>3</td>\n",
       "      <td>3</td>\n",
       "      <td>3</td>\n",
       "      <td>6</td>\n",
       "      <td>5</td>\n",
       "      <td>19</td>\n",
       "      <td>80</td>\n",
       "    </tr>\n",
       "  </tbody>\n",
       "</table>\n",
       "</div>"
      ],
      "text/plain": [
       "               M_Negtve_Nil_incme_85_yrs_ovr  M_1_149_85ov  M_150_299_85ov  \\\n",
       "POA_CODE_2016                                                                \n",
       "POA2000                                    5             3               5   \n",
       "\n",
       "               M_300_399_85ov  M_400_499_85ov  M_500_649_85ov  M_650_799_85ov  \\\n",
       "POA_CODE_2016                                                                   \n",
       "POA2000                     8               0               3               5   \n",
       "\n",
       "               M_800_999_85ov  M_1000_1249_85ov  M_1250_1499_85ov  \\\n",
       "POA_CODE_2016                                                       \n",
       "POA2000                     0                 7                 3   \n",
       "\n",
       "               M_1500_1749_85ov  M_1750_1999_85ov  M_2000_2999_85ov  \\\n",
       "POA_CODE_2016                                                         \n",
       "POA2000                       3                 3                 6   \n",
       "\n",
       "               M_3000_more_85ov  M_PI_NS_ns_85_yrs_ovr  M_Tot_85ov  \n",
       "POA_CODE_2016                                                       \n",
       "POA2000                       5                     19          80  "
      ]
     },
     "execution_count": 169,
     "metadata": {},
     "output_type": "execute_result"
    }
   ],
   "source": [
    "ppl15[ppl15.index == 'POA2000']"
   ]
  },
  {
   "cell_type": "code",
   "execution_count": 170,
   "metadata": {},
   "outputs": [
    {
     "data": {
      "text/plain": [
       "80"
      ]
     },
     "execution_count": 170,
     "metadata": {},
     "output_type": "execute_result"
    }
   ],
   "source": [
    "ppl15[ppl15.index == 'POA2000'].iloc[0,-1]"
   ]
  },
  {
   "cell_type": "code",
   "execution_count": 171,
   "metadata": {},
   "outputs": [
    {
     "data": {
      "text/plain": [
       "75"
      ]
     },
     "execution_count": 171,
     "metadata": {},
     "output_type": "execute_result"
    }
   ],
   "source": [
    "ppl15[ppl15.index == 'POA2000'].iloc[0,0:-1].sum()"
   ]
  },
  {
   "cell_type": "code",
   "execution_count": 172,
   "metadata": {},
   "outputs": [],
   "source": [
    "income_dict = {}"
   ]
  },
  {
   "cell_type": "code",
   "execution_count": 173,
   "metadata": {},
   "outputs": [
    {
     "data": {
      "text/plain": [
       "{'M_1000_1249_85ov': 7,\n",
       " 'M_1250_1499_85ov': 3,\n",
       " 'M_1500_1749_85ov': 3,\n",
       " 'M_150_299_85ov': 5,\n",
       " 'M_1750_1999_85ov': 3,\n",
       " 'M_1_149_85ov': 3,\n",
       " 'M_2000_2999_85ov': 6,\n",
       " 'M_3000_more_85ov': 5,\n",
       " 'M_300_399_85ov': 8,\n",
       " 'M_400_499_85ov': 0,\n",
       " 'M_500_649_85ov': 3,\n",
       " 'M_650_799_85ov': 5,\n",
       " 'M_800_999_85ov': 0,\n",
       " 'M_Negtve_Nil_incme_85_yrs_ovr': 5,\n",
       " 'M_PI_NS_ns_85_yrs_ovr': 19,\n",
       " 'M_Tot_85ov': 80}"
      ]
     },
     "execution_count": 173,
     "metadata": {},
     "output_type": "execute_result"
    }
   ],
   "source": [
    "ppl15[ppl15.index == 'POA2000'].to_dict(orient='index')['POA2000']"
   ]
  },
  {
   "cell_type": "code",
   "execution_count": 197,
   "metadata": {},
   "outputs": [],
   "source": [
    "def is_income_col(col_name):\n",
    "    \n",
    "    gender, dollars_from, dollars_to = col_name.split('_')[:3]\n",
    "    \n",
    "    if not ((dollars_from.lower() in {'neg', 'negtve', 'pi'}) or dollars_from.isdigit()):\n",
    "        return False\n",
    "    \n",
    "    if dollars_from.lower() in {'neg', 'negtve'}:\n",
    "        dollars_from = '0'\n",
    "    elif dollars_from.lower() == 'pi':\n",
    "        dollars_from = '?'\n",
    "        \n",
    "    if dollars_to.lower() == 'nil':\n",
    "        dollars_to = ''\n",
    "    elif dollars_to.lower() == 'ns':\n",
    "        dollars_to = ''\n",
    "    elif dollars_to.lower() == 'more':\n",
    "        dollars_to = '+'\n",
    "    \n",
    "    income = '$' + dollars_from + dollars_to\n",
    "        \n",
    "    return (gender.lower(), income) "
   ]
  },
  {
   "cell_type": "code",
   "execution_count": 195,
   "metadata": {},
   "outputs": [
    {
     "data": {
      "text/plain": [
       "('M', '$3000+')"
      ]
     },
     "execution_count": 195,
     "metadata": {},
     "output_type": "execute_result"
    }
   ],
   "source": [
    "is_income_col('M_3000_more_85ov')"
   ]
  },
  {
   "cell_type": "code",
   "execution_count": null,
   "metadata": {},
   "outputs": [],
   "source": []
  }
 ],
 "metadata": {
  "kernelspec": {
   "display_name": "Python 3",
   "language": "python",
   "name": "python3"
  },
  "language_info": {
   "codemirror_mode": {
    "name": "ipython",
    "version": 3
   },
   "file_extension": ".py",
   "mimetype": "text/x-python",
   "name": "python",
   "nbconvert_exporter": "python",
   "pygments_lexer": "ipython3",
   "version": "3.6.4"
  }
 },
 "nbformat": 4,
 "nbformat_minor": 2
}
